{
 "cells": [
  {
   "cell_type": "code",
   "execution_count": 1,
   "id": "5bc81c5b-4da0-4e74-ba47-c503959c9a38",
   "metadata": {},
   "outputs": [
    {
     "name": "stdin",
     "output_type": "stream",
     "text": [
      "What is your name ?   pacos\n"
     ]
    },
    {
     "name": "stdout",
     "output_type": "stream",
     "text": [
      "Hello pacos\n"
     ]
    }
   ],
   "source": [
    "name = input(\"What is your name ?  \")\n",
    "print ('Hello' , name)"
   ]
  },
  {
   "cell_type": "code",
   "execution_count": null,
   "id": "96df303f-8cdb-454b-ae33-faa1b6d587ba",
   "metadata": {},
   "outputs": [],
   "source": []
  }
 ],
 "metadata": {
  "kernelspec": {
   "display_name": "Python 3 (ipykernel)",
   "language": "python",
   "name": "python3"
  },
  "language_info": {
   "codemirror_mode": {
    "name": "ipython",
    "version": 3
   },
   "file_extension": ".py",
   "mimetype": "text/x-python",
   "name": "python",
   "nbconvert_exporter": "python",
   "pygments_lexer": "ipython3",
   "version": "3.9.13"
  }
 },
 "nbformat": 4,
 "nbformat_minor": 5
}
