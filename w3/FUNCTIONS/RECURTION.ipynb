{
 "cells": [
  {
   "cell_type": "markdown",
   "id": "eccd18dc-e021-4dee-ae81-1c760e62548c",
   "metadata": {},
   "source": [
    "## Factorial with Recursion"
   ]
  },
  {
   "cell_type": "code",
   "execution_count": 7,
   "id": "0f07a25b-49c9-44fe-874c-14a03c07639e",
   "metadata": {},
   "outputs": [],
   "source": [
    "def fact(n) :\n",
    "    if n == 0 : result = 1;\n",
    "    if n == 1 : result = 1;\n",
    "    else : result = n*fact(n-1)\n",
    "    return(result)"
   ]
  },
  {
   "cell_type": "code",
   "execution_count": 8,
   "id": "35ef7512-0620-4fd8-a34d-2930ead14759",
   "metadata": {},
   "outputs": [
    {
     "data": {
      "text/plain": [
       "6"
      ]
     },
     "execution_count": 8,
     "metadata": {},
     "output_type": "execute_result"
    }
   ],
   "source": [
    "fact(3)"
   ]
  },
  {
   "cell_type": "markdown",
   "id": "35048b53-d3d8-4081-a6d6-9ab47af89a29",
   "metadata": {},
   "source": [
    "## more compact"
   ]
  },
  {
   "cell_type": "code",
   "execution_count": 15,
   "id": "c5556a15-b999-429f-8bfa-27b0b73da8f8",
   "metadata": {},
   "outputs": [],
   "source": [
    "def ftrl(n) :\n",
    "    return 1 if (n == 1 or n == 0 ) else  n*ftrl(n-1)"
   ]
  },
  {
   "cell_type": "code",
   "execution_count": 16,
   "id": "d405a53a-1484-4b23-bd18-bd63074befeb",
   "metadata": {},
   "outputs": [
    {
     "data": {
      "text/plain": [
       "120"
      ]
     },
     "execution_count": 16,
     "metadata": {},
     "output_type": "execute_result"
    }
   ],
   "source": [
    "ftrl(5)"
   ]
  },
  {
   "cell_type": "markdown",
   "id": "1c9ab12b-6995-4f49-82bf-8968eac4dce7",
   "metadata": {},
   "source": [
    "## with for"
   ]
  },
  {
   "cell_type": "code",
   "execution_count": 10,
   "id": "8ab15c8e-b817-4d68-b2d4-d49df2fc1cdd",
   "metadata": {},
   "outputs": [
    {
     "name": "stdin",
     "output_type": "stream",
     "text": [
      "enter a number 6\n"
     ]
    },
    {
     "name": "stdout",
     "output_type": "stream",
     "text": [
      "1   1\n",
      "2   2\n",
      "3   6\n",
      "4   24\n",
      "5   120\n",
      "6   720\n"
     ]
    }
   ],
   "source": [
    "n = int(input('enter a number'))\n",
    "f=1\n",
    "for i in range(1 , n+1):\n",
    "    f=f*i\n",
    "    print(i , ' ' , f)"
   ]
  },
  {
   "cell_type": "code",
   "execution_count": 27,
   "id": "f2baaec8-6755-4f95-b49a-c35c78dad4b3",
   "metadata": {},
   "outputs": [
    {
     "name": "stdout",
     "output_type": "stream",
     "text": [
      "range(0, 4)\n"
     ]
    }
   ],
   "source": [
    "print(range(4))"
   ]
  },
  {
   "cell_type": "code",
   "execution_count": 28,
   "id": "fbf79449-dbf4-4059-9303-dd32deb3d03e",
   "metadata": {},
   "outputs": [
    {
     "name": "stdout",
     "output_type": "stream",
     "text": [
      "0\n",
      "1\n",
      "2\n",
      "3\n"
     ]
    }
   ],
   "source": [
    "for k in range(4) : print(k)"
   ]
  },
  {
   "cell_type": "code",
   "execution_count": 9,
   "id": "3363e485-e4d8-403c-9780-92facd870855",
   "metadata": {},
   "outputs": [
    {
     "name": "stdin",
     "output_type": "stream",
     "text": [
      "Enter a number:  4\n"
     ]
    },
    {
     "name": "stdout",
     "output_type": "stream",
     "text": [
      "The factorial of 4 is 24\n"
     ]
    }
   ],
   "source": [
    "num = int(input(\"Enter a number: \"))    \n",
    "factorial = 1    \n",
    "if num < 0:    \n",
    "   print(\" Factorial does not exist for negative numbers\")    \n",
    "elif num == 0:    \n",
    "   print(\"The factorial of 0 is 1\")    \n",
    "else:    \n",
    "   for i in range(1,num + 1):    \n",
    "       factorial = factorial*i    \n",
    "   print(\"The factorial of\",num,\"is\",factorial)    "
   ]
  },
  {
   "cell_type": "code",
   "execution_count": null,
   "id": "f147ab7c-fe51-4ad7-b909-f4bf3b1b40c7",
   "metadata": {},
   "outputs": [],
   "source": []
  }
 ],
 "metadata": {
  "kernelspec": {
   "display_name": "Python 3 (ipykernel)",
   "language": "python",
   "name": "python3"
  },
  "language_info": {
   "codemirror_mode": {
    "name": "ipython",
    "version": 3
   },
   "file_extension": ".py",
   "mimetype": "text/x-python",
   "name": "python",
   "nbconvert_exporter": "python",
   "pygments_lexer": "ipython3",
   "version": "3.9.13"
  }
 },
 "nbformat": 4,
 "nbformat_minor": 5
}
